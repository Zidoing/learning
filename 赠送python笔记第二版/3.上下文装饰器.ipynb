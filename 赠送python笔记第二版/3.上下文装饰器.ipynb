{
 "cells": [
  {
   "cell_type": "code",
   "execution_count": 1,
   "metadata": {
    "collapsed": false
   },
   "outputs": [
    {
     "name": "stdout",
     "output_type": "stream",
     "text": [
      "hello world\n"
     ]
    }
   ],
   "source": [
    "print 'hello world'"
   ]
  },
  {
   "cell_type": "code",
   "execution_count": 2,
   "metadata": {
    "collapsed": true
   },
   "outputs": [],
   "source": [
    "class MyContext(object):\n",
    "    def __init__(self, *args):\n",
    "        pass"
   ]
  },
  {
   "cell_type": "code",
   "execution_count": 3,
   "metadata": {},
   "outputs": [],
   "source": [
    "class MyContext(object):\n",
    "    def __init__(self, *args):\n",
    "        self.data = args\n",
    "        \n",
    "    def __enter__(self):\n",
    "        print \"__enter__\"\n",
    "        return self.data\n",
    "    \n",
    "    def __exit__(self, exc_type, exc_val, exc_tb):\n",
    "        if exc_type:\n",
    "            print \"Exception:\", exc_val\n",
    "            \n",
    "        print \"__exit__\"\n",
    "        return  True"
   ]
  },
  {
   "cell_type": "code",
   "execution_count": 1,
   "metadata": {},
   "outputs": [],
   "source": [
    "from contextlib import contextmanager"
   ]
  },
  {
   "cell_type": "code",
   "execution_count": 5,
   "metadata": {},
   "outputs": [],
   "source": [
    "@contextmanager\n",
    "def closing(o):\n",
    "    print \"enter\"\n",
    "    yield o\n",
    "    print \"exit\"\n",
    "    o.close()"
   ]
  },
  {
   "cell_type": "code",
   "execution_count": 7,
   "metadata": {
    "collapsed": false
   },
   "outputs": [
    {
     "name": "stdout",
     "output_type": "stream",
     "text": [
      "enter\n{\n\nexit\n"
     ]
    }
   ],
   "source": [
    "with closing(open(\"/Users/zhoulei/PycharmProjects/learning/赠送python笔记第二版/1.弱引用.ipynb\")) as f:\n",
    "    print f.readline()"
   ]
  },
  {
   "cell_type": "code",
   "execution_count": 4,
   "metadata": {},
   "outputs": [
    {
     "name": "stdout",
     "output_type": "stream",
     "text": [
      "__enter__\nException: 'tuple' object has no attribute 'data'\n__exit__\n"
     ]
    }
   ],
   "source": [
    "with MyContext(2,3,4) as data:\n",
    "    print data.data"
   ]
  },
  {
   "cell_type": "markdown",
   "metadata": {},
   "source": [
    "# 以下为装饰器\n",
    "\n"
   ]
  },
  {
   "cell_type": "code",
   "execution_count": 5,
   "metadata": {},
   "outputs": [],
   "source": [
    "def check_args(func):\n",
    "    print 'hellow'\n",
    "    def wrap(*args):\n",
    "        args = filter(bool, args)\n",
    "        func(*args)\n",
    "    return wrap"
   ]
  },
  {
   "cell_type": "code",
   "execution_count": 7,
   "metadata": {},
   "outputs": [
    {
     "name": "stdout",
     "output_type": "stream",
     "text": [
      "hellow\n"
     ]
    }
   ],
   "source": [
    "@check_args\n",
    "def test(*args):\n",
    "    print args"
   ]
  },
  {
   "cell_type": "code",
   "execution_count": 8,
   "metadata": {},
   "outputs": [
    {
     "name": "stdout",
     "output_type": "stream",
     "text": [
      "(123123, 232)\n"
     ]
    }
   ],
   "source": [
    "test(123123,232)"
   ]
  },
  {
   "cell_type": "code",
   "execution_count": 8,
   "metadata": {},
   "outputs": [],
   "source": [
    "class CheckArgs(object):\n",
    "    def __init__(self, func):\n",
    "        self.func = func\n",
    "        \n",
    "    def __call__(self, *args, **kwargs):\n",
    "        \n",
    "        return self.func(*args, **kwargs)"
   ]
  },
  {
   "cell_type": "code",
   "execution_count": 9,
   "metadata": {},
   "outputs": [],
   "source": [
    "@CheckArgs\n",
    "def test(*args):\n",
    "    print args"
   ]
  },
  {
   "cell_type": "code",
   "execution_count": 10,
   "metadata": {},
   "outputs": [
    {
     "name": "stdout",
     "output_type": "stream",
     "text": [
      "(2222, 222)\n"
     ]
    }
   ],
   "source": [
    "test(2222,222)"
   ]
  },
  {
   "cell_type": "code",
   "execution_count": 27,
   "metadata": {},
   "outputs": [],
   "source": [
    "def singleton(cls):\n",
    "    class wrap(cls):\n",
    "        def __new__(cls, *args, **kwargs):\n",
    "            o = getattr(cls, '_instance',None)\n",
    "            if not o:\n",
    "                o= super(wrap, cls).__new__(cls,*args, **kwargs)\n",
    "                cls._instance = o\n",
    "            return o\n",
    "    return wrap"
   ]
  },
  {
   "cell_type": "code",
   "execution_count": 28,
   "metadata": {},
   "outputs": [],
   "source": [
    "@singleton\n",
    "class A(object):\n",
    "    def test(self):print hex(id(self))"
   ]
  },
  {
   "cell_type": "code",
   "execution_count": 29,
   "metadata": {},
   "outputs": [],
   "source": [
    "a, b =A(), A()"
   ]
  },
  {
   "cell_type": "code",
   "execution_count": 30,
   "metadata": {},
   "outputs": [
    {
     "data": {
      "text/plain": [
       "True"
      ]
     },
     "execution_count": 30,
     "metadata": {},
     "output_type": "execute_result"
    }
   ],
   "source": [
    "a is b"
   ]
  },
  {
   "cell_type": "code",
   "execution_count": 31,
   "metadata": {},
   "outputs": [],
   "source": [
    "def action(cls):\n",
    "    cls.mvc = staticmethod(lambda :\"Action\")\n",
    "    return cls"
   ]
  },
  {
   "cell_type": "code",
   "execution_count": 32,
   "metadata": {},
   "outputs": [],
   "source": [
    "@action\n",
    "class Login(object):pass"
   ]
  },
  {
   "cell_type": "code",
   "execution_count": 33,
   "metadata": {},
   "outputs": [
    {
     "data": {
      "text/plain": [
       "'Action'"
      ]
     },
     "execution_count": 33,
     "metadata": {},
     "output_type": "execute_result"
    }
   ],
   "source": [
    "Login.mvc()"
   ]
  },
  {
   "cell_type": "code",
   "execution_count": 47,
   "metadata": {},
   "outputs": [],
   "source": [
    "class MyDeacriptor(object):\n",
    "    def __get__(self, instance, owner):\n",
    "        print \"get\", instance, owner\n",
    "        return hex(id(instance))\n",
    "    \n",
    "    def __set__(self, instance, value):\n",
    "        print \"set\", instance, value\n",
    "        \n",
    "    def __delete__(self, instance):\n",
    "        print \"del:\" , instance\n",
    "class Data(object):\n",
    "    x = MyDeacriptor()"
   ]
  },
  {
   "cell_type": "code",
   "execution_count": 37,
   "metadata": {},
   "outputs": [],
   "source": [
    "d = Data()"
   ]
  },
  {
   "cell_type": "code",
   "execution_count": 38,
   "metadata": {},
   "outputs": [
    {
     "name": "stdout",
     "output_type": "stream",
     "text": [
      "get <__main__.Data object at 0x10f7675d0> <class '__main__.Data'>\n"
     ]
    },
    {
     "data": {
      "text/plain": [
       "'0x10f7675d0'"
      ]
     },
     "execution_count": 38,
     "metadata": {},
     "output_type": "execute_result"
    }
   ],
   "source": [
    "d.x"
   ]
  },
  {
   "cell_type": "code",
   "execution_count": 39,
   "metadata": {},
   "outputs": [
    {
     "name": "stdout",
     "output_type": "stream",
     "text": [
      "set <__main__.Data object at 0x10f7675d0> 100\n"
     ]
    }
   ],
   "source": [
    "d.x =100"
   ]
  },
  {
   "cell_type": "code",
   "execution_count": 40,
   "metadata": {},
   "outputs": [
    {
     "name": "stdout",
     "output_type": "stream",
     "text": [
      "get <__main__.Data object at 0x10f7675d0> <class '__main__.Data'>\n"
     ]
    },
    {
     "data": {
      "text/plain": [
       "'0x10f7675d0'"
      ]
     },
     "execution_count": 40,
     "metadata": {},
     "output_type": "execute_result"
    }
   ],
   "source": [
    "d.x"
   ]
  },
  {
   "cell_type": "code",
   "execution_count": 41,
   "metadata": {},
   "outputs": [
    {
     "name": "stdout",
     "output_type": "stream",
     "text": [
      "del: <__main__.Data object at 0x10f7675d0>\n"
     ]
    }
   ],
   "source": [
    "del d.x"
   ]
  },
  {
   "cell_type": "code",
   "execution_count": 42,
   "metadata": {},
   "outputs": [
    {
     "name": "stdout",
     "output_type": "stream",
     "text": [
      "get None <class '__main__.Data'>\n"
     ]
    },
    {
     "data": {
      "text/plain": [
       "'0x10dda3678'"
      ]
     },
     "execution_count": 42,
     "metadata": {},
     "output_type": "execute_result"
    }
   ],
   "source": [
    "Data.x"
   ]
  },
  {
   "cell_type": "code",
   "execution_count": 43,
   "metadata": {},
   "outputs": [
    {
     "name": "stdout",
     "output_type": "stream",
     "text": [
      "get <__main__.Data object at 0x10f7675d0> <class '__main__.Data'>\n"
     ]
    },
    {
     "data": {
      "text/plain": [
       "'0x10f7675d0'"
      ]
     },
     "execution_count": 43,
     "metadata": {},
     "output_type": "execute_result"
    }
   ],
   "source": [
    "d.x"
   ]
  },
  {
   "cell_type": "code",
   "execution_count": 44,
   "metadata": {},
   "outputs": [
    {
     "name": "stdout",
     "output_type": "stream",
     "text": [
      "get <__main__.Data object at 0x10f7675d0> <class '__main__.Data'>\n"
     ]
    },
    {
     "data": {
      "text/plain": [
       "str"
      ]
     },
     "execution_count": 44,
     "metadata": {},
     "output_type": "execute_result"
    }
   ],
   "source": [
    "type(d.x)"
   ]
  },
  {
   "cell_type": "code",
   "execution_count": 1,
   "metadata": {},
   "outputs": [],
   "source": [
    "class MyDeacriptor(object):\n",
    "    def __get__(self, instance, owner):\n",
    "        print \"get\", instance, owner\n",
    "        return hex(id(instance))\n",
    "    \n",
    "    # def __set__(self, instance, value):\n",
    "    #     print \"set\", instance, value\n",
    "    #     \n",
    "    # def __delete__(self, instance):\n",
    "    #     print \"del:\" , instance\n",
    "        \n",
    "class Data(object):\n",
    "    x = MyDeacriptor()"
   ]
  },
  {
   "cell_type": "code",
   "execution_count": 58,
   "metadata": {},
   "outputs": [
    {
     "name": "stdout",
     "output_type": "stream",
     "text": [
      "get <__main__.Data object at 0x10f761190> <class '__main__.Data'>\n"
     ]
    },
    {
     "data": {
      "text/plain": [
       "'0x10f761190'"
      ]
     },
     "execution_count": 58,
     "metadata": {},
     "output_type": "execute_result"
    }
   ],
   "source": [
    "a  = Data()\n",
    "a.x"
   ]
  },
  {
   "cell_type": "code",
   "execution_count": 59,
   "metadata": {},
   "outputs": [],
   "source": [
    "a.x = 100"
   ]
  },
  {
   "cell_type": "code",
   "execution_count": 8,
   "metadata": {},
   "outputs": [
    {
     "name": "stdout",
     "output_type": "stream",
     "text": [
      "<type 'type'>\n<type 'type'>\n"
     ]
    }
   ],
   "source": [
    "class Data(object):\n",
    "    pass\n",
    "\n",
    "print Data.__class__\n",
    "print type.__class__"
   ]
  },
  {
   "cell_type": "code",
   "execution_count": 9,
   "metadata": {},
   "outputs": [
    {
     "ename": "AttributeError",
     "evalue": "type object 'Data' has no attribute '__metaclass__'",
     "traceback": [
      "\u001b[0;31m---------------------------------------------------------------------------\u001b[0m",
      "\u001b[0;31mAttributeError\u001b[0m                            Traceback (most recent call last)",
      "\u001b[0;32m<ipython-input-9-62a41661ce31>\u001b[0m in \u001b[0;36m<module>\u001b[0;34m()\u001b[0m\n\u001b[0;32m----> 1\u001b[0;31m \u001b[0mData\u001b[0m\u001b[0;34m.\u001b[0m\u001b[0m__metaclass__\u001b[0m\u001b[0;34m\u001b[0m\u001b[0m\n\u001b[0m",
      "\u001b[0;31mAttributeError\u001b[0m: type object 'Data' has no attribute '__metaclass__'"
     ],
     "output_type": "error"
    }
   ],
   "source": [
    "Data.__metaclass__"
   ]
  },
  {
   "cell_type": "code",
   "execution_count": 10,
   "metadata": {},
   "outputs": [],
   "source": [
    "class InjectMeta(type):\n",
    "    def __new__(cls, *args, **kwargs):\n",
    "        t = type.__new__(cls,*args, **kwargs)\n",
    "        def print_id(self):print hex(id(self))\n",
    "        t.print_id = print_id\n",
    "        t.s = \"hellworld!\"\n",
    "        return t"
   ]
  },
  {
   "cell_type": "code",
   "execution_count": 11,
   "metadata": {},
   "outputs": [],
   "source": [
    "class Data(object):\n",
    "    __metaclass__ = InjectMeta"
   ]
  },
  {
   "cell_type": "code",
   "execution_count": 12,
   "metadata": {},
   "outputs": [
    {
     "data": {
      "text/plain": [
       "__main__.InjectMeta"
      ]
     },
     "execution_count": 12,
     "metadata": {},
     "output_type": "execute_result"
    }
   ],
   "source": [
    "Data.__metaclass__"
   ]
  },
  {
   "cell_type": "code",
   "execution_count": 13,
   "metadata": {},
   "outputs": [
    {
     "data": {
      "text/plain": [
       "__main__.InjectMeta"
      ]
     },
     "execution_count": 13,
     "metadata": {},
     "output_type": "execute_result"
    }
   ],
   "source": [
    "Data.__class__"
   ]
  },
  {
   "cell_type": "code",
   "execution_count": 14,
   "metadata": {},
   "outputs": [
    {
     "data": {
      "text/plain": [
       "['__class__',\n '__delattr__',\n '__dict__',\n '__doc__',\n '__format__',\n '__getattribute__',\n '__hash__',\n '__init__',\n '__metaclass__',\n '__module__',\n '__new__',\n '__reduce__',\n '__reduce_ex__',\n '__repr__',\n '__setattr__',\n '__sizeof__',\n '__str__',\n '__subclasshook__',\n '__weakref__',\n 'print_id',\n 's']"
      ]
     },
     "execution_count": 14,
     "metadata": {},
     "output_type": "execute_result"
    }
   ],
   "source": [
    "dir(Data)"
   ]
  },
  {
   "cell_type": "code",
   "execution_count": 15,
   "metadata": {},
   "outputs": [
    {
     "data": {
      "text/plain": [
       "'hellworld!'"
      ]
     },
     "execution_count": 15,
     "metadata": {},
     "output_type": "execute_result"
    }
   ],
   "source": [
    "Data.s"
   ]
  },
  {
   "cell_type": "code",
   "execution_count": 16,
   "metadata": {},
   "outputs": [
    {
     "name": "stdout",
     "output_type": "stream",
     "text": [
      "0x109e78110\n"
     ]
    }
   ],
   "source": [
    "Data().print_id()"
   ]
  },
  {
   "cell_type": "code",
   "execution_count": 18,
   "metadata": {},
   "outputs": [],
   "source": [
    "class InjectMeta(type):\n",
    "    def __new__(cls, name, bases,attrs):\n",
    "        print \"class\" ,cls\n",
    "        print \"name\" , name\n",
    "        print \"bases\", bases\n",
    "        print \"attrs:\", attrs\n",
    "        return type.__new__(cls, name, bases, attrs)\n",
    "    \n",
    "    def __init__(cls, name, bases, attrs):\n",
    "        print \"class\" , cls\n",
    "        type.__init__(cls,name,bases, attrs)"
   ]
  },
  {
   "cell_type": "code",
   "execution_count": 19,
   "metadata": {},
   "outputs": [
    {
     "name": "stdout",
     "output_type": "stream",
     "text": [
      "class <class '__main__.InjectMeta'>\nname Data\nbases (<type 'object'>,)\nattrs: {'test': <function test at 0x109e6faa0>, 'x': 1, '__module__': '__main__', '__metaclass__': <class '__main__.InjectMeta'>}\nclass <class '__main__.Data'>\n"
     ]
    }
   ],
   "source": [
    "class Data(object):\n",
    "    __metaclass__ = InjectMeta\n",
    "    x = 1\n",
    "    def test(self):pass"
   ]
  },
  {
   "cell_type": "code",
   "execution_count": null,
   "metadata": {},
   "outputs": [],
   "source": [
    ""
   ]
  }
 ],
 "metadata": {
  "kernelspec": {
   "display_name": "Python 2",
   "language": "python",
   "name": "python2"
  },
  "language_info": {
   "codemirror_mode": {
    "name": "ipython",
    "version": 2.0
   },
   "file_extension": ".py",
   "mimetype": "text/x-python",
   "name": "python",
   "nbconvert_exporter": "python",
   "pygments_lexer": "ipython2",
   "version": "2.7.6"
  }
 },
 "nbformat": 4,
 "nbformat_minor": 0
}