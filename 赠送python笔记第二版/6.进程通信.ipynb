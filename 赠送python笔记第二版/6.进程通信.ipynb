{
 "cells": [
  {
   "cell_type": "code",
   "execution_count": 1,
   "metadata": {
    "collapsed": true
   },
   "outputs": [],
   "source": [
    "from subprocess import *"
   ]
  },
  {
   "cell_type": "code",
   "execution_count": 2,
   "metadata": {},
   "outputs": [],
   "source": [
    "from shlex import split"
   ]
  },
  {
   "cell_type": "code",
   "execution_count": 3,
   "metadata": {},
   "outputs": [],
   "source": [
    "s = check_output(split(\"ls -l\"))"
   ]
  },
  {
   "cell_type": "code",
   "execution_count": 5,
   "metadata": {
    "collapsed": false
   },
   "outputs": [
    {
     "name": "stdout",
     "output_type": "stream",
     "text": [
      "total 2904\n-rw-------    1 zhoulei  staff  371328 Dec  2 23:19 1BBA6288-DA76-44F5-AD22-9D05E1B98D3D.dmp\n-rw-------    1 zhoulei  staff  364040 Dec  2 23:18 6AD08EAC-A461-44B9-B7FE-7D645AA227F0.dmp\n-rw-------    1 zhoulei  staff  362192 Dec  2 23:19 72508244-363A-4245-B18A-1A58FC369645.dmp\n-rw-------    1 zhoulei  staff  372512 Dec  2 23:19 7E9E0400-EAC1-4A11-98AB-84834840F4B4.dmp\ndrwx------    5 zhoulei  staff     170 Sep  1 00:58 Applications\ndrwxr-xr-x    4 zhoulei  staff     136 Aug  4 14:48 CLionProjects\ndrwx------+  30 zhoulei  staff    1020 Jan 10 12:36 Desktop\ndrwx------+   7 zhoulei  staff     238 Dec 22 13:36 Documents\ndrwx------  117 zhoulei  staff    3978 Jan 10 14:00 Downloads\ndrwxr-xr-x    5 zhoulei  staff     170 Jan 10 12:57 IdeaProjects\ndrwx------@  83 zhoulei  staff    2822 Jan 10 15:47 Library\ndrwx------+   5 zhoulei  staff     170 Jun 23  2017 Movies\ndrwx------+   8 zhoulei  staff     272 Nov 24 18:13 Music\ndrwxr-xr-x    3 zhoulei  staff     102 Sep  1 00:58 Parallels\ndrwx------+   8 zhoulei  staff     272 Nov  2 11:26 Pictures\ndrwxr-xr-x+   6 zhoulei  staff     204 Aug  4 16:36 Public\ndrwxr-xr-x   15 zhoulei  staff     510 Jan  9 11:03 PycharmProjects\ndrwxr-xr-x    5 zhoulei  staff     170 Dec  7 20:25 QTUI\ndrwxr-xr-x   14 zhoulei  staff     476 Nov 18 11:30 Qt5.9.2\ndrwxr-xr-x    7 zhoulei  staff     238 Nov 17 17:28 WSClientenv\ndrwxr-xr-x    7 zhoulei  staff     238 Nov 18 12:06 WSClientenv3\ndrwxr-xr-x    5 zhoulei  staff     170 Dec 15 14:45 WebstormProjects\ndrwxr-xr-x    7 zhoulei  staff     238 Aug 14 00:21 blogenv\ndrwxr-xr-x    7 zhoulei  staff     238 Jun 14  2017 builderenv\ndrwxr-xr-x    9 zhoulei  staff     306 Aug  7 15:15 cheyilianenv\ndrwxr-xr-x@   3 zhoulei  staff     102 Sep 12 17:21 conf\ndrwxr-xr-x    7 zhoulei  staff     238 Nov 12 21:15 crmenv\ndrwxr-xr-x@   2 zhoulei  staff      68 Jan  9 17:27 data\ndrwxr-xr-x    6 zhoulei  staff     204 Dec  6 22:54 eclipse-workspace\ndrwxr-xr-x    7 zhoulei  staff     238 Nov 14 11:13 guanenv\ndrwxr-xr-x    4 zhoulei  staff     136 Aug 31 15:45 hexo\ndrwx------    4 zhoulei  staff     136 Oct  4 08:02 iCloud Drive (Archive)\ndrwxr-xr-x    6 zhoulei  staff     204 Oct 13 14:19 iCloud Drive (Archive) - 1\ndrwx------    4 zhoulei  staff     136 Oct  4 08:02 iCloud Drive (Archive) - 2\n-rw-r--r--    1 zhoulei  staff     366 Jan  8 12:58 itp.1031.20171123.rsp\ndrwxr-xr-x    8 zhoulei  staff     272 Jun 30  2017 learnenv\ndrwxr-xr-x    7 zhoulei  staff     238 Nov 15 11:07 learnnnenv3\ndrwxr-xr-x   32 zhoulei  staff    1088 Oct 31 11:17 log\ndrwxr-xr-x    7 zhoulei  staff     238 Dec  7 23:07 mxenv\n-rw-r--r--    1 zhoulei  staff     887 Nov 24 16:13 rsa_private_key.pem\n-rw-r--r--    1 zhoulei  staff     272 Nov 24 16:13 rsa_public_key.pem\ndrwxr-xr-x    9 zhoulei  staff     306 Nov 17 00:15 spiderenv\ndrwxr-xr-x    7 zhoulei  staff     238 Dec 11 21:40 vueshopenv\n\n"
     ]
    }
   ],
   "source": [
    "print s"
   ]
  },
  {
   "cell_type": "code",
   "execution_count": 6,
   "metadata": {},
   "outputs": [],
   "source": [
    "#!/usr/bin/env python #coding=utf-8\n",
    "\n",
    "from os import popen\n",
    "from cmd import Cmd\n",
    "from shlex import split as shsplit\n",
    "\n",
    "\n",
    "class Shell(Cmd, object):\n",
    "    intro = \"TEST shell, version 0.0.0.1\"\n",
    "    prompt = \"$ \"\n",
    "\n",
    "    def default(self, line):\n",
    "        # 退出。EOF 表⽰示 <ctrl> d 快捷键。 \n",
    "        if line in (\"exit\", \"quit\", \"bye\", \"EOF\"):\n",
    "            print \"bye...\"\n",
    "\n",
    "            return True\n",
    "\n",
    "        # 未知命令，输出错误提⽰示。 \n",
    "        super(Shell, self).default(line)\n",
    "\n",
    "    def do_test(self, line):\n",
    "        # shlex.split 可以分割 unix-shell 参数字符串。 \n",
    "        print shsplit(line)\n",
    "\n",
    "    def complete_test(self, text, line, beginidx, endidx):\n",
    "        # 参数补全显⽰示。如果已经输⼊入了⼀一部分(text)，那么仅显⽰示以此开头的参数。\n",
    "        args = (\"a1\", \"a2\", \"b1\", \"b2\")\n",
    "        return args if not text else filter(lambda s: s.startswith(text), args)\n",
    "\n",
    "    def do_shell(self, line):\n",
    "        # 执⾏行并输出系统命令。 \n",
    "        print popen(line).read()\n",
    "\n",
    "    def postcmd(self, stop, line):\n",
    "        # 每次命令执⾏行完毕后，输出⼀一个空⾏行，看上去舒服⼀一些。 \n",
    "        print\n",
    "\n",
    "        return super(Shell, self).postcmd(stop, line)"
   ]
  },
  {
   "cell_type": "code",
   "execution_count": 7,
   "metadata": {},
   "outputs": [
    {
     "name": "stdout",
     "output_type": "stream",
     "text": [
      "TEST shell, version 0.0.0.1\n"
     ]
    },
    {
     "ename": "StdinNotImplementedError",
     "evalue": "raw_input was called, but this frontend does not support input requests.",
     "traceback": [
      "\u001b[0;31m---------------------------------------------------------------------------\u001b[0m",
      "\u001b[0;31mStdinNotImplementedError\u001b[0m                  Traceback (most recent call last)",
      "\u001b[0;32m<ipython-input-7-39f77d84d05c>\u001b[0m in \u001b[0;36m<module>\u001b[0;34m()\u001b[0m\n\u001b[0;32m----> 1\u001b[0;31m \u001b[0mShell\u001b[0m\u001b[0;34m(\u001b[0m\u001b[0;34m)\u001b[0m\u001b[0;34m.\u001b[0m\u001b[0mcmdloop\u001b[0m\u001b[0;34m(\u001b[0m\u001b[0;34m)\u001b[0m\u001b[0;34m\u001b[0m\u001b[0m\n\u001b[0m",
      "\u001b[0;32m/System/Library/Frameworks/Python.framework/Versions/2.7/lib/python2.7/cmd.pyc\u001b[0m in \u001b[0;36mcmdloop\u001b[0;34m(self, intro)\u001b[0m\n\u001b[1;32m    128\u001b[0m                     \u001b[0;32mif\u001b[0m \u001b[0mself\u001b[0m\u001b[0;34m.\u001b[0m\u001b[0muse_rawinput\u001b[0m\u001b[0;34m:\u001b[0m\u001b[0;34m\u001b[0m\u001b[0m\n\u001b[1;32m    129\u001b[0m                         \u001b[0;32mtry\u001b[0m\u001b[0;34m:\u001b[0m\u001b[0;34m\u001b[0m\u001b[0m\n\u001b[0;32m--> 130\u001b[0;31m                             \u001b[0mline\u001b[0m \u001b[0;34m=\u001b[0m \u001b[0mraw_input\u001b[0m\u001b[0;34m(\u001b[0m\u001b[0mself\u001b[0m\u001b[0;34m.\u001b[0m\u001b[0mprompt\u001b[0m\u001b[0;34m)\u001b[0m\u001b[0;34m\u001b[0m\u001b[0m\n\u001b[0m\u001b[1;32m    131\u001b[0m                         \u001b[0;32mexcept\u001b[0m \u001b[0mEOFError\u001b[0m\u001b[0;34m:\u001b[0m\u001b[0;34m\u001b[0m\u001b[0m\n\u001b[1;32m    132\u001b[0m                             \u001b[0mline\u001b[0m \u001b[0;34m=\u001b[0m \u001b[0;34m'EOF'\u001b[0m\u001b[0;34m\u001b[0m\u001b[0m\n",
      "\u001b[0;32m/Library/Python/2.7/site-packages/ipykernel/kernelbase.pyc\u001b[0m in \u001b[0;36mraw_input\u001b[0;34m(self, prompt)\u001b[0m\n\u001b[1;32m    698\u001b[0m         \u001b[0;32mif\u001b[0m \u001b[0;32mnot\u001b[0m \u001b[0mself\u001b[0m\u001b[0;34m.\u001b[0m\u001b[0m_allow_stdin\u001b[0m\u001b[0;34m:\u001b[0m\u001b[0;34m\u001b[0m\u001b[0m\n\u001b[1;32m    699\u001b[0m             raise StdinNotImplementedError(\n\u001b[0;32m--> 700\u001b[0;31m                 \u001b[0;34m\"raw_input was called, but this frontend does not support input requests.\"\u001b[0m\u001b[0;34m\u001b[0m\u001b[0m\n\u001b[0m\u001b[1;32m    701\u001b[0m             )\n\u001b[1;32m    702\u001b[0m         return self._input_request(str(prompt),\n",
      "\u001b[0;31mStdinNotImplementedError\u001b[0m: raw_input was called, but this frontend does not support input requests."
     ],
     "output_type": "error"
    }
   ],
   "source": [
    "Shell().cmdloop()"
   ]
  },
  {
   "cell_type": "code",
   "execution_count": 8,
   "metadata": {
    "collapsed": false
   },
   "outputs": [
    {
     "data": {
      "text/plain": [
       "{'AUTOJUMP_ERROR_PATH': '/Users/zhoulei/Library/autojump/errors.log',\n 'AUTOJUMP_SOURCED': '1',\n 'Apple_PubSub_Socket_Render': '/private/tmp/com.apple.launchd.wysnGMeocM/Render',\n 'CLICOLOR': '1',\n 'COLORFGBG': '15;0',\n 'COLORTERM': 'truecolor',\n 'GIT_PAGER': 'cat',\n 'HOME': '/Users/zhoulei',\n 'ITERM_PROFILE': 'local',\n 'ITERM_SESSION_ID': 'w0t0p0:605B53CB-1ED5-4B54-8B56-C60BA5E7F9A5',\n 'JPY_PARENT_PID': '19323',\n 'LC_CTYPE': 'UTF-8',\n 'LESS': '-R',\n 'LOGNAME': 'zhoulei',\n 'LSCOLORS': 'Gxfxcxdxbxegedabagacad',\n 'MPLBACKEND': 'module://ipykernel.pylab.backend_inline',\n 'OLDPWD': '/Users/zhoulei/.jupyter',\n 'PAGER': 'cat',\n 'PATH': '/usr/local/bin:/usr/local/chromedirver/:/usr/local/bin:/usr/bin:/bin:/usr/sbin:/sbin:/Library/Frameworks/Mono.framework/Versions/Current/Commands:/Applications/Wireshark.app/Contents/MacOS:/usr/local/chromedirver/',\n 'PWD': '/Users/zhoulei',\n 'SECURITYSESSIONID': '186a7',\n 'SHELL': '/bin/zsh',\n 'SHLVL': '2',\n 'SSH_AUTH_SOCK': '/private/tmp/com.apple.launchd.HA3kGT3zsV/Listeners',\n 'TERM': 'xterm-color',\n 'TERM_PROGRAM': 'iTerm.app',\n 'TERM_PROGRAM_VERSION': '3.1.3',\n 'TERM_SESSION_ID': 'w0t0p0:605B53CB-1ED5-4B54-8B56-C60BA5E7F9A5',\n 'TMPDIR': '/var/folders/32/sy8hh3ms17z8mfwvt0417d1c0000gn/T/',\n 'TMUX': '/private/tmp/tmux-501/default,1340,0',\n 'TMUX_PANE': '%0',\n 'USER': 'zhoulei',\n 'VERSIONER_PYTHON_PREFER_32_BIT': 'no',\n 'VERSIONER_PYTHON_VERSION': '2.7',\n 'XPC_FLAGS': '0x0',\n 'XPC_SERVICE_NAME': '0',\n 'ZSH': '/Users/zhoulei/.oh-my-zsh',\n '_': '/usr/local/bin/jupyter',\n '__CF_USER_TEXT_ENCODING': '0x1F5:0x0:0x0'}"
      ]
     },
     "execution_count": 8,
     "metadata": {},
     "output_type": "execute_result"
    }
   ],
   "source": [
    "%env"
   ]
  },
  {
   "cell_type": "code",
   "execution_count": 1,
   "metadata": {},
   "outputs": [
    {
     "ename": "StdinNotImplementedError",
     "evalue": "raw_input was called, but this frontend does not support input requests.",
     "traceback": [
      "\u001b[0;31m---------------------------------------------------------------------------\u001b[0m",
      "\u001b[0;31mStdinNotImplementedError\u001b[0m                  Traceback (most recent call last)",
      "\u001b[0;32m<ipython-input-1-25ede6ea20bf>\u001b[0m in \u001b[0;36m<module>\u001b[0;34m()\u001b[0m\n\u001b[0;32m----> 1\u001b[0;31m \u001b[0minput\u001b[0m\u001b[0;34m(\u001b[0m\u001b[0;34m)\u001b[0m\u001b[0;34m\u001b[0m\u001b[0m\n\u001b[0m",
      "\u001b[0;32m/Library/Python/2.7/site-packages/ipykernel/ipkernel.pyc\u001b[0m in \u001b[0;36m<lambda>\u001b[0;34m(prompt)\u001b[0m\n\u001b[1;32m    162\u001b[0m             \u001b[0mself\u001b[0m\u001b[0;34m.\u001b[0m\u001b[0m_sys_eval_input\u001b[0m \u001b[0;34m=\u001b[0m \u001b[0mbuiltin_mod\u001b[0m\u001b[0;34m.\u001b[0m\u001b[0minput\u001b[0m\u001b[0;34m\u001b[0m\u001b[0m\n\u001b[1;32m    163\u001b[0m             \u001b[0mbuiltin_mod\u001b[0m\u001b[0;34m.\u001b[0m\u001b[0mraw_input\u001b[0m \u001b[0;34m=\u001b[0m \u001b[0mself\u001b[0m\u001b[0;34m.\u001b[0m\u001b[0mraw_input\u001b[0m\u001b[0;34m\u001b[0m\u001b[0m\n\u001b[0;32m--> 164\u001b[0;31m             \u001b[0mbuiltin_mod\u001b[0m\u001b[0;34m.\u001b[0m\u001b[0minput\u001b[0m \u001b[0;34m=\u001b[0m \u001b[0;32mlambda\u001b[0m \u001b[0mprompt\u001b[0m\u001b[0;34m=\u001b[0m\u001b[0;34m''\u001b[0m\u001b[0;34m:\u001b[0m \u001b[0meval\u001b[0m\u001b[0;34m(\u001b[0m\u001b[0mself\u001b[0m\u001b[0;34m.\u001b[0m\u001b[0mraw_input\u001b[0m\u001b[0;34m(\u001b[0m\u001b[0mprompt\u001b[0m\u001b[0;34m)\u001b[0m\u001b[0;34m)\u001b[0m\u001b[0;34m\u001b[0m\u001b[0m\n\u001b[0m\u001b[1;32m    165\u001b[0m         \u001b[0mself\u001b[0m\u001b[0;34m.\u001b[0m\u001b[0m_save_getpass\u001b[0m \u001b[0;34m=\u001b[0m \u001b[0mgetpass\u001b[0m\u001b[0;34m.\u001b[0m\u001b[0mgetpass\u001b[0m\u001b[0;34m\u001b[0m\u001b[0m\n\u001b[1;32m    166\u001b[0m         \u001b[0mgetpass\u001b[0m\u001b[0;34m.\u001b[0m\u001b[0mgetpass\u001b[0m \u001b[0;34m=\u001b[0m \u001b[0mself\u001b[0m\u001b[0;34m.\u001b[0m\u001b[0mgetpass\u001b[0m\u001b[0;34m\u001b[0m\u001b[0m\n",
      "\u001b[0;32m/Library/Python/2.7/site-packages/ipykernel/kernelbase.pyc\u001b[0m in \u001b[0;36mraw_input\u001b[0;34m(self, prompt)\u001b[0m\n\u001b[1;32m    698\u001b[0m         \u001b[0;32mif\u001b[0m \u001b[0;32mnot\u001b[0m \u001b[0mself\u001b[0m\u001b[0;34m.\u001b[0m\u001b[0m_allow_stdin\u001b[0m\u001b[0;34m:\u001b[0m\u001b[0;34m\u001b[0m\u001b[0m\n\u001b[1;32m    699\u001b[0m             raise StdinNotImplementedError(\n\u001b[0;32m--> 700\u001b[0;31m                 \u001b[0;34m\"raw_input was called, but this frontend does not support input requests.\"\u001b[0m\u001b[0;34m\u001b[0m\u001b[0m\n\u001b[0m\u001b[1;32m    701\u001b[0m             )\n\u001b[1;32m    702\u001b[0m         return self._input_request(str(prompt),\n",
      "\u001b[0;31mStdinNotImplementedError\u001b[0m: raw_input was called, but this frontend does not support input requests."
     ],
     "output_type": "error"
    }
   ],
   "source": [
    "input()"
   ]
  },
  {
   "cell_type": "code",
   "execution_count": 2,
   "metadata": {
    "collapsed": false
   },
   "outputs": [
    {
     "data": {
      "text/plain": [
       "{'AUTOJUMP_ERROR_PATH': '/Users/zhoulei/Library/autojump/errors.log',\n 'AUTOJUMP_SOURCED': '1',\n 'Apple_PubSub_Socket_Render': '/private/tmp/com.apple.launchd.wysnGMeocM/Render',\n 'CLICOLOR': '1',\n 'COLORFGBG': '15;0',\n 'COLORTERM': 'truecolor',\n 'GIT_PAGER': 'cat',\n 'HOME': '/Users/zhoulei',\n 'ITERM_PROFILE': 'local',\n 'ITERM_SESSION_ID': 'w0t0p0:605B53CB-1ED5-4B54-8B56-C60BA5E7F9A5',\n 'JPY_PARENT_PID': '19323',\n 'LC_CTYPE': 'UTF-8',\n 'LESS': '-R',\n 'LOGNAME': 'zhoulei',\n 'LSCOLORS': 'Gxfxcxdxbxegedabagacad',\n 'MPLBACKEND': 'module://ipykernel.pylab.backend_inline',\n 'OLDPWD': '/Users/zhoulei/.jupyter',\n 'PAGER': 'cat',\n 'PATH': '/usr/local/bin:/usr/local/chromedirver/:/usr/local/bin:/usr/bin:/bin:/usr/sbin:/sbin:/Library/Frameworks/Mono.framework/Versions/Current/Commands:/Applications/Wireshark.app/Contents/MacOS:/usr/local/chromedirver/',\n 'PWD': '/Users/zhoulei',\n 'SECURITYSESSIONID': '186a7',\n 'SHELL': '/bin/zsh',\n 'SHLVL': '2',\n 'SSH_AUTH_SOCK': '/private/tmp/com.apple.launchd.HA3kGT3zsV/Listeners',\n 'TERM': 'xterm-color',\n 'TERM_PROGRAM': 'iTerm.app',\n 'TERM_PROGRAM_VERSION': '3.1.3',\n 'TERM_SESSION_ID': 'w0t0p0:605B53CB-1ED5-4B54-8B56-C60BA5E7F9A5',\n 'TMPDIR': '/var/folders/32/sy8hh3ms17z8mfwvt0417d1c0000gn/T/',\n 'TMUX': '/private/tmp/tmux-501/default,1340,0',\n 'TMUX_PANE': '%0',\n 'USER': 'zhoulei',\n 'VERSIONER_PYTHON_PREFER_32_BIT': 'no',\n 'VERSIONER_PYTHON_VERSION': '2.7',\n 'XPC_FLAGS': '0x0',\n 'XPC_SERVICE_NAME': '0',\n 'ZSH': '/Users/zhoulei/.oh-my-zsh',\n '_': '/usr/local/bin/jupyter',\n '__CF_USER_TEXT_ENCODING': '0x1F5:0x0:0x0'}"
      ]
     },
     "execution_count": 2,
     "metadata": {},
     "output_type": "execute_result"
    }
   ],
   "source": [
    "%env"
   ]
  },
  {
   "cell_type": "code",
   "execution_count": null,
   "metadata": {},
   "outputs": [],
   "source": [
    ""
   ]
  }
 ],
 "metadata": {
  "kernelspec": {
   "display_name": "Python 2",
   "language": "python",
   "name": "python2"
  },
  "language_info": {
   "codemirror_mode": {
    "name": "ipython",
    "version": 2.0
   },
   "file_extension": ".py",
   "mimetype": "text/x-python",
   "name": "python",
   "nbconvert_exporter": "python",
   "pygments_lexer": "ipython2",
   "version": "2.7.6"
  }
 },
 "nbformat": 4,
 "nbformat_minor": 0
}